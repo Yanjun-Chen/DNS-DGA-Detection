{
 "cells": [
  {
   "cell_type": "code",
   "execution_count": null,
   "metadata": {
    "collapsed": true
   },
   "outputs": [],
   "source": [
    "#CNN1v-LSTM\n",
    "\n",
    "import pandas as pd\n",
    "import numpy as np\n",
    "from keras.preprocessing import sequence\n",
    "from keras.models import Sequential\n",
    "from keras.layers.core import Dense, Dropout, Activation\n",
    "from keras.layers.embeddings import Embedding\n",
    "from keras.layers.recurrent import LSTM,GRU\n",
    "import sklearn\n",
    "from sklearn import metrics\n",
    "import time\n",
    "\n",
    "#Input data\n",
    "#indata=pd.read_csv(\"../input/DGA_test.csv\")\n",
    "indata=pd.read_csv(r'E:\\Data_test\\DGA.csv',header=None)\n",
    "\n",
    "X=indata.iloc[:,0]\n",
    "labels=indata.iloc[:,1]\n",
    "\n",
    "# Generate a dictionary of valid characters\n",
    "valid_chars = {x:idx+1 for idx, x in enumerate(set(''.join(X)))}\n",
    "\n",
    "max_features = len(valid_chars) + 1\n",
    "maxlen = np.max([len(x) for x in X])\n",
    "\n",
    "# Convert characters to int and pad\n",
    "X = [[valid_chars[y] for y in x] for x in X]\n",
    "X = sequence.pad_sequences(X, maxlen=maxlen)\n",
    "y=np.array(labels)\n",
    "\n",
    "train_x=X[0:20000]\n",
    "train_y=y[0:20000]\n",
    "test_x=X[20000:30000]\n",
    "test_y=y[20000:30000]\n",
    "\n",
    "#print(max_features)\n",
    "time_start=time.time()\n",
    "\n",
    "model = Sequential()\n",
    "model.add(Embedding(max_features, 128, input_length=maxlen))\n",
    "model.add(layers.Conv1D(32,5,activation='relu'))\n",
    "model.add(layers.MaxPooling1D(3))\n",
    "model.add(layers.Conv1D(32,5,activation='relu'))\n",
    "#model.add(layers.GlobalMaxPooling1D())\n",
    "model.add(Dropout(0.5))\n",
    "model.add(LSTM(128))\n",
    "model.add(Dense(1))\n",
    "model.add(Activation('sigmoid'))\n",
    "model.compile(loss='binary_crossentropy',\n",
    "                  optimizer='rmsprop')\n",
    "\n",
    "model.fit(train_x,train_y,batch_size=20,nb_epoch=1)\n",
    "\n",
    "t_test_probs = model.predict(test_x)\n",
    "t_train_probs = model.predict(train_x)\n",
    "t_test_auc = sklearn.metrics.roc_auc_score(test_y, t_test_probs)\n",
    "t_train_auc = sklearn.metrics.roc_auc_score(train_y, t_train_probs)\n",
    "\n",
    "time_end=time.time()\n",
    "\n",
    "print(\"train AUC:\",round(t_train_auc,2))\n",
    "print(\"test AUC:\",round(t_test_auc,2))\n",
    "print(\"time:\",round(time_end-time_start,2))"
   ]
  }
 ],
 "metadata": {
  "kernelspec": {
   "display_name": "Python 3",
   "language": "python",
   "name": "python3"
  },
  "language_info": {
   "codemirror_mode": {
    "name": "ipython",
    "version": 3
   },
   "file_extension": ".py",
   "mimetype": "text/x-python",
   "name": "python",
   "nbconvert_exporter": "python",
   "pygments_lexer": "ipython3",
   "version": "3.6.3"
  }
 },
 "nbformat": 4,
 "nbformat_minor": 2
}
